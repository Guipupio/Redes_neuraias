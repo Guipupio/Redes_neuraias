{
 "cells": [
  {
   "cell_type": "code",
   "execution_count": 3,
   "metadata": {},
   "outputs": [
    {
     "name": "stdout",
     "output_type": "stream",
     "text": [
      "Epoch 1/5\n",
      "60000/60000 [==============================] - 13s 216us/sample - loss: 0.2692 - acc: 0.9195\n",
      "Epoch 2/5\n",
      "60000/60000 [==============================] - 14s 227us/sample - loss: 0.1386 - acc: 0.9585\n",
      "Epoch 3/5\n",
      "60000/60000 [==============================] - 13s 216us/sample - loss: 0.1102 - acc: 0.9665\n",
      "Epoch 4/5\n",
      "60000/60000 [==============================] - 15s 248us/sample - loss: 0.0945 - acc: 0.9705\n",
      "Epoch 5/5\n",
      "60000/60000 [==============================] - 14s 230us/sample - loss: 0.0814 - acc: 0.9743\n",
      "10000/10000 [==============================] - 1s 51us/sample - loss: 0.0671 - acc: 0.9787\n",
      "Model saved to disk\n"
     ]
    },
    {
     "data": {
      "text/plain": [
       "'/home/pupio/git/Redes_neuraias/EFC2_IA353_1s2019'"
      ]
     },
     "execution_count": 3,
     "metadata": {},
     "output_type": "execute_result"
    }
   ],
   "source": [
    "import tensorflow as tf\n",
    "import os\n",
    "mnist = tf.keras.datasets.mnist\n",
    "(x_train, y_train),(x_test, y_test) = mnist.load_data()\n",
    "x_train, x_test = x_train / 255.0, x_test / 255.0\n",
    "model = tf.keras.models.Sequential([\n",
    " tf.keras.layers.Flatten(),\n",
    " tf.keras.layers.Dense(512, activation=tf.nn.relu),\n",
    " tf.keras.layers.Dropout(0.5),\n",
    " tf.keras.layers.Dense(10, activation=tf.nn.softmax)\n",
    "])\n",
    "model.compile(optimizer='adam',\n",
    " loss='sparse_categorical_crossentropy',\n",
    " metrics=['accuracy'])\n",
    "model.fit(x_train, y_train, epochs=5)\n",
    "model.evaluate(x_test, y_test)\n",
    "model_json = model.to_json()\n",
    "json_file = open(\"model_MLP.json\", \"w\")\n",
    "json_file.write(model_json)\n",
    "json_file.close()\n",
    "model.save_weights(\"model_MLP.h5\")\n",
    "print(\"Model saved to disk\")\n",
    "os.getcwd()\n"
   ]
  },
  {
   "cell_type": "code",
   "execution_count": 4,
   "metadata": {},
   "outputs": [
    {
     "name": "stdout",
     "output_type": "stream",
     "text": [
      "Epoch 1/6\n",
      "60000/60000 [==============================] - 6s 103us/sample - loss: 0.2919 - acc: 0.9122\n",
      "Epoch 2/6\n",
      "60000/60000 [==============================] - 7s 116us/sample - loss: 0.1512 - acc: 0.9545\n",
      "Epoch 3/6\n",
      "60000/60000 [==============================] - 8s 132us/sample - loss: 0.1156 - acc: 0.9648\n",
      "Epoch 4/6\n",
      "60000/60000 [==============================] - 6s 103us/sample - loss: 0.0972 - acc: 0.9700\n",
      "Epoch 5/6\n",
      "60000/60000 [==============================] - 6s 104us/sample - loss: 0.0855 - acc: 0.9737\n",
      "Epoch 6/6\n",
      "60000/60000 [==============================] - 6s 101us/sample - loss: 0.0746 - acc: 0.9771\n",
      "10000/10000 [==============================] - 1s 50us/sample - loss: 0.0654 - acc: 0.9812\n",
      "Model saved to disk\n"
     ]
    },
    {
     "data": {
      "text/plain": [
       "'/home/pupio/git/Redes_neuraias/EFC2_IA353_1s2019'"
      ]
     },
     "execution_count": 4,
     "metadata": {},
     "output_type": "execute_result"
    }
   ],
   "source": [
    "import tensorflow as tf\n",
    "import os\n",
    "mnist = tf.keras.datasets.mnist\n",
    "(x_train, y_train),(x_test, y_test) = mnist.load_data()\n",
    "x_train, x_test = x_train / 255.0, x_test / 255.0\n",
    "model = tf.keras.models.Sequential([\n",
    " tf.keras.layers.Flatten(),\n",
    " tf.keras.layers.Dense(512, activation=tf.nn.relu6),\n",
    " tf.keras.layers.Dropout(0.49),\n",
    "#  tf.keras.layers.Dense(512, activation=tf.nn.relu6),\n",
    "#  tf.keras.layers.Dense(256, activation=tf.nn.relu6),\n",
    "#  tf.keras.layers.Dropout(0.5),\n",
    " tf.keras.layers.Dense(10, activation=tf.nn.softmax)\n",
    "])\n",
    "model.compile(optimizer=tf.train.GradientDescentOptimizer(0.172),\n",
    " loss='sparse_categorical_crossentropy',\n",
    " metrics=['accuracy'])\n",
    "model.fit(x_train, y_train, epochs=6)\n",
    "model.evaluate(x_test, y_test)\n",
    "model_json = model.to_json()\n",
    "json_file = open(\"model_MLP.json\", \"w\")\n",
    "json_file.write(model_json)\n",
    "json_file.close()\n",
    "model.save_weights(\"model_MLP.h5\")\n",
    "print(\"Model saved to disk\")\n",
    "os.getcwd()"
   ]
  },
  {
   "cell_type": "code",
   "execution_count": 5,
   "metadata": {},
   "outputs": [
    {
     "name": "stdout",
     "output_type": "stream",
     "text": [
      "Epoch 1/6\n",
      "60000/60000 [==============================] - 7s 111us/sample - loss: 0.2919 - acc: 0.9124\n",
      "Epoch 2/6\n",
      "60000/60000 [==============================] - 6s 93us/sample - loss: 0.1494 - acc: 0.9550\n",
      "Epoch 3/6\n",
      "60000/60000 [==============================] - 5s 91us/sample - loss: 0.1150 - acc: 0.9658\n",
      "Epoch 4/6\n",
      "60000/60000 [==============================] - 5s 89us/sample - loss: 0.0959 - acc: 0.9706\n",
      "Epoch 5/6\n",
      "60000/60000 [==============================] - 5s 89us/sample - loss: 0.0846 - acc: 0.9737\n",
      "Epoch 6/6\n",
      "60000/60000 [==============================] - 5s 89us/sample - loss: 0.0770 - acc: 0.9752\n",
      "10000/10000 [==============================] - 1s 50us/sample - loss: 0.0652 - acc: 0.9796\n",
      "Model saved to disk\n"
     ]
    },
    {
     "data": {
      "text/plain": [
       "'/home/pupio/git/Redes_neuraias/EFC2_IA353_1s2019'"
      ]
     },
     "execution_count": 5,
     "metadata": {},
     "output_type": "execute_result"
    }
   ],
   "source": [
    "import tensorflow as tf\n",
    "import os\n",
    "mnist = tf.keras.datasets.mnist\n",
    "(x_train, y_train),(x_test, y_test) = mnist.load_data()\n",
    "x_train, x_test = x_train / 255.0, x_test / 255.0\n",
    "model = tf.keras.models.Sequential([\n",
    " tf.keras.layers.Flatten(),\n",
    " tf.keras.layers.Dense(512, activation=tf.nn.relu6),\n",
    " tf.keras.layers.Dropout(0.49),\n",
    "#  tf.keras.layers.Dense(512, activation=tf.nn.relu6),\n",
    "#  tf.keras.layers.Dense(256, activation=tf.nn.relu6),\n",
    "#  tf.keras.layers.Dropout(0.5),\n",
    " tf.keras.layers.Dense(10, activation=tf.nn.softmax)\n",
    "])\n",
    "model.compile(optimizer=tf.train.GradientDescentOptimizer(0.172),\n",
    " loss='sparse_categorical_crossentropy',\n",
    " metrics=['accuracy'])\n",
    "model.fit(x_train, y_train, epochs=6)\n",
    "model.evaluate(x_test, y_test)\n",
    "model_json = model.to_json()\n",
    "json_file = open(\"model_MLP.json\", \"w\")\n",
    "json_file.write(model_json)\n",
    "json_file.close()\n",
    "model.save_weights(\"model_MLP.h5\")\n",
    "print(\"Model saved to disk\")\n",
    "os.getcwd()"
   ]
  },
  {
   "cell_type": "code",
   "execution_count": 6,
   "metadata": {},
   "outputs": [
    {
     "name": "stdout",
     "output_type": "stream",
     "text": [
      "Epoch 1/6\n",
      "60000/60000 [==============================] - 6s 104us/sample - loss: 0.2913 - acc: 0.9118\n",
      "Epoch 2/6\n",
      "60000/60000 [==============================] - 6s 95us/sample - loss: 0.1487 - acc: 0.9553\n",
      "Epoch 3/6\n",
      "60000/60000 [==============================] - 5s 91us/sample - loss: 0.1158 - acc: 0.9651\n",
      "Epoch 4/6\n",
      "60000/60000 [==============================] - 6s 96us/sample - loss: 0.0968 - acc: 0.9712\n",
      "Epoch 5/6\n",
      "60000/60000 [==============================] - 6s 106us/sample - loss: 0.0845 - acc: 0.9737\n",
      "Epoch 6/6\n",
      "60000/60000 [==============================] - 6s 107us/sample - loss: 0.0748 - acc: 0.9763\n",
      "10000/10000 [==============================] - 1s 55us/sample - loss: 0.0644 - acc: 0.9789\n",
      "Model saved to disk\n"
     ]
    },
    {
     "data": {
      "text/plain": [
       "'/home/pupio/git/Redes_neuraias/EFC2_IA353_1s2019'"
      ]
     },
     "execution_count": 6,
     "metadata": {},
     "output_type": "execute_result"
    }
   ],
   "source": [
    "import tensorflow as tf\n",
    "import os\n",
    "mnist = tf.keras.datasets.mnist\n",
    "(x_train, y_train),(x_test, y_test) = mnist.load_data()\n",
    "x_train, x_test = x_train / 255.0, x_test / 255.0\n",
    "model = tf.keras.models.Sequential([\n",
    " tf.keras.layers.Flatten(),\n",
    " tf.keras.layers.Dense(512, activation=tf.nn.relu6),\n",
    " tf.keras.layers.Dropout(0.49),\n",
    "#  tf.keras.layers.Dense(512, activation=tf.nn.relu6),\n",
    "#  tf.keras.layers.Dense(256, activation=tf.nn.relu6),\n",
    "#  tf.keras.layers.Dropout(0.5),\n",
    " tf.keras.layers.Dense(10, activation=tf.nn.softmax)\n",
    "])\n",
    "model.compile(optimizer=tf.train.GradientDescentOptimizer(0.172),\n",
    " loss='sparse_categorical_crossentropy',\n",
    " metrics=['accuracy'])\n",
    "model.fit(x_train, y_train, epochs=6)\n",
    "model.evaluate(x_test, y_test)\n",
    "model_json = model.to_json()\n",
    "json_file = open(\"model_MLP.json\", \"w\")\n",
    "json_file.write(model_json)\n",
    "json_file.close()\n",
    "model.save_weights(\"model_MLP.h5\")\n",
    "print(\"Model saved to disk\")\n",
    "os.getcwd()\n"
   ]
  },
  {
   "cell_type": "code",
   "execution_count": 7,
   "metadata": {},
   "outputs": [],
   "source": [
    "a = 3"
   ]
  }
 ],
 "metadata": {
  "kernelspec": {
   "display_name": "Python 3",
   "language": "python",
   "name": "python3"
  },
  "language_info": {
   "codemirror_mode": {
    "name": "ipython",
    "version": 3
   },
   "file_extension": ".py",
   "mimetype": "text/x-python",
   "name": "python",
   "nbconvert_exporter": "python",
   "pygments_lexer": "ipython3",
   "version": "3.7.3"
  }
 },
 "nbformat": 4,
 "nbformat_minor": 2
}
