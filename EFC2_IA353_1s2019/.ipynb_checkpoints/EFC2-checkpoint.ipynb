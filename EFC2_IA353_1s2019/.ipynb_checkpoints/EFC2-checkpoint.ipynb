{
 "cells": [
  {
   "cell_type": "markdown",
   "metadata": {},
   "source": [
    "# Guilherme Covre Pupio -  Ra 168958"
   ]
  },
  {
   "cell_type": "markdown",
   "metadata": {},
   "source": [
    "# Exercício 1\n",
    "\n",
    "## Descrevendo Caminho Trilhado.\n",
    "* Utilizei primordialmente o Método da Tentativa e Erro, utilizei como base resultados já publicados\n",
    "\n",
    "* Utilizei apenas duas camadas pois enquanto verificava o uso de mais camadas, em todos os casos em que testei, o custo computacional era bem maior em relação ao ganho em acurácia.\n",
    "\n",
    "* Criei um código que verificava um range de possibilidades para o número de neurônios da primeira camada, a taxa de dropout da primeira camada, número de neurônios da segunda camada, taxa de dropout da segunda camada e, por fim, a taxa de aprendizado do algoritmo \"GradientDescentOptimizer\"\n"
   ]
  },
  {
   "cell_type": "code",
   "execution_count": 1,
   "metadata": {},
   "outputs": [],
   "source": [
    "## Codigo -- Questao 1\n",
    "# importando bibliotecas utilizadas\n",
    "import tensorflow as tf\n",
    "import os\n",
    "\n",
    "def nova_MLP(num_epochs=10, units_camada_um=512, dropout_um=0.2, camada_dois=128, dropout_dois=0.3, gradient=0.18):\n",
    "    X_train = x_train.reshape(60000,28,28,1)\n",
    "    X_test = x_test.reshape(10000,28,28,1)\n",
    "    model = tf.keras.models.Sequential()\n",
    "    model.add(tf.keras.layers.Flatten())\n",
    "    model.add(tf.keras.layers.Dense(units_camada_um, activation=tf.nn.relu))\n",
    "    model.add(tf.keras.layers.Dropout(dropout_um))\n",
    "    model.add(tf.keras.layers.Dense(camada_dois, activation=tf.nn.relu))\n",
    "    model.add(tf.keras.layers.Dropout(dropout_dois))\n",
    "    model.add(tf.keras.layers.Dense(10, activation=tf.nn.softmax))\n",
    "    \n",
    "    model.compile(optimizer=tf.train.GradientDescentOptimizer(gradient),\n",
    "     loss='sparse_categorical_crossentropy',\n",
    "     metrics=['accuracy'])\n",
    "    model.fit(X_train, y_train, epochs=num_epochs, use_multiprocessing=True)\n",
    "    model.evaluate(X_test, y_test, use_multiprocessing=True)\n",
    "    \n",
    "    model_json = model.to_json()\n",
    "    json_file = open(\"model_MLP.json\", \"w+\")\n",
    "    json_file.write(model_json)\n",
    "    json_file.close()\n",
    "    model.save_weights(\"model_MLP.h5\")\n",
    "    print(\"Model saved to disk\")\n",
    "    os.getcwd()\n",
    "\n",
    "# Aquisicao do DATASET\n",
    "mnist = tf.keras.datasets.mnist\n",
    "(x_train, y_train),(x_test, y_test) = mnist.load_data()\n",
    "x_train, x_test = x_train / 255.0, x_test / 255.0\n",
    "\n",
    "nova_MPL()"
   ]
  },
  {
   "cell_type": "raw",
   "metadata": {},
   "source": [
    "# Exemplo de Saída obtida com o código acima\n",
    "# Epoch 1/10\n",
    "60000/60000 [==============================] - 7s 109us/sample - loss: 0.2798 - acc: 0.9147\n",
    "Epoch 2/10\n",
    "60000/60000 [==============================] - 7s 113us/sample - loss: 0.1321 - acc: 0.9602\n",
    "Epoch 3/10\n",
    "60000/60000 [==============================] - 7s 110us/sample - loss: 0.0946 - acc: 0.9716\n",
    "Epoch 4/10\n",
    "60000/60000 [==============================] - 6s 104us/sample - loss: 0.0770 - acc: 0.9757\n",
    "Epoch 5/10\n",
    "60000/60000 [==============================] - 7s 119us/sample - loss: 0.0660 - acc: 0.9790\n",
    "Epoch 6/10\n",
    "60000/60000 [==============================] - 6s 104us/sample - loss: 0.0554 - acc: 0.9819\n",
    "Epoch 7/10\n",
    "60000/60000 [==============================] - 6s 103us/sample - loss: 0.0500 - acc: 0.9840\n",
    "Epoch 8/10\n",
    "60000/60000 [==============================] - 6s 103us/sample - loss: 0.0443 - acc: 0.9851\n",
    "Epoch 9/10\n",
    "60000/60000 [==============================] - 6s 103us/sample - loss: 0.0386 - acc: 0.9879\n",
    "Epoch 10/10\n",
    "60000/60000 [==============================] - 6s 103us/sample - loss: 0.0366 - acc: 0.9883\n",
    "10000/10000 [==============================] - 1s 56us/sample - loss: 0.0594 - acc: 0.9840\n",
    "Model saved to disk"
   ]
  }
 ],
 "metadata": {
  "kernelspec": {
   "display_name": "Python 3",
   "language": "python",
   "name": "python3"
  },
  "language_info": {
   "codemirror_mode": {
    "name": "ipython",
    "version": 3
   },
   "file_extension": ".py",
   "mimetype": "text/x-python",
   "name": "python",
   "nbconvert_exporter": "python",
   "pygments_lexer": "ipython3",
   "version": "3.7.3"
  }
 },
 "nbformat": 4,
 "nbformat_minor": 2
}
